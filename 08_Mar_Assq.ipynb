{
 "cells": [
  {
   "cell_type": "code",
   "execution_count": 1,
   "id": "553bd63d",
   "metadata": {},
   "outputs": [],
   "source": [
    "#Ans.1 Probability Density Function is a continuous random function takes an unaccountably infinite number of possible values.\n",
    "# Ex - Weight oof students in a school"
   ]
  },
  {
   "cell_type": "code",
   "execution_count": 2,
   "id": "ec67d2fe",
   "metadata": {},
   "outputs": [],
   "source": [
    "#Ans.2 Types of distributions :-\n",
    "#i.   Bernoulli Distribution\n",
    "#ii.  Bionomial Distribution\n",
    "#iii. Poisson Distribution\n",
    "#iv.  Normal/Gaussian distribution\n",
    "#v.   Uniform Distribution\n",
    "#vi.  Log Formal Distribution\n",
    "#vii. Power Law distribution"
   ]
  },
  {
   "cell_type": "code",
   "execution_count": 3,
   "id": "cc7b31cf",
   "metadata": {},
   "outputs": [],
   "source": [
    "#Ans.3\n",
    "import scipy.stats as stat\n",
    "import matplotlib.pyplot as plt\n",
    "import seaborn as sns"
   ]
  },
  {
   "cell_type": "code",
   "execution_count": 5,
   "id": "403603fd",
   "metadata": {},
   "outputs": [],
   "source": [
    "df = sns.load_dataset('iris')"
   ]
  },
  {
   "cell_type": "code",
   "execution_count": 6,
   "id": "3304d376",
   "metadata": {},
   "outputs": [
    {
     "data": {
      "text/html": [
       "<div>\n",
       "<style scoped>\n",
       "    .dataframe tbody tr th:only-of-type {\n",
       "        vertical-align: middle;\n",
       "    }\n",
       "\n",
       "    .dataframe tbody tr th {\n",
       "        vertical-align: top;\n",
       "    }\n",
       "\n",
       "    .dataframe thead th {\n",
       "        text-align: right;\n",
       "    }\n",
       "</style>\n",
       "<table border=\"1\" class=\"dataframe\">\n",
       "  <thead>\n",
       "    <tr style=\"text-align: right;\">\n",
       "      <th></th>\n",
       "      <th>sepal_length</th>\n",
       "      <th>sepal_width</th>\n",
       "      <th>petal_length</th>\n",
       "      <th>petal_width</th>\n",
       "      <th>species</th>\n",
       "    </tr>\n",
       "  </thead>\n",
       "  <tbody>\n",
       "    <tr>\n",
       "      <th>0</th>\n",
       "      <td>5.1</td>\n",
       "      <td>3.5</td>\n",
       "      <td>1.4</td>\n",
       "      <td>0.2</td>\n",
       "      <td>setosa</td>\n",
       "    </tr>\n",
       "    <tr>\n",
       "      <th>1</th>\n",
       "      <td>4.9</td>\n",
       "      <td>3.0</td>\n",
       "      <td>1.4</td>\n",
       "      <td>0.2</td>\n",
       "      <td>setosa</td>\n",
       "    </tr>\n",
       "    <tr>\n",
       "      <th>2</th>\n",
       "      <td>4.7</td>\n",
       "      <td>3.2</td>\n",
       "      <td>1.3</td>\n",
       "      <td>0.2</td>\n",
       "      <td>setosa</td>\n",
       "    </tr>\n",
       "    <tr>\n",
       "      <th>3</th>\n",
       "      <td>4.6</td>\n",
       "      <td>3.1</td>\n",
       "      <td>1.5</td>\n",
       "      <td>0.2</td>\n",
       "      <td>setosa</td>\n",
       "    </tr>\n",
       "    <tr>\n",
       "      <th>4</th>\n",
       "      <td>5.0</td>\n",
       "      <td>3.6</td>\n",
       "      <td>1.4</td>\n",
       "      <td>0.2</td>\n",
       "      <td>setosa</td>\n",
       "    </tr>\n",
       "  </tbody>\n",
       "</table>\n",
       "</div>"
      ],
      "text/plain": [
       "   sepal_length  sepal_width  petal_length  petal_width species\n",
       "0           5.1          3.5           1.4          0.2  setosa\n",
       "1           4.9          3.0           1.4          0.2  setosa\n",
       "2           4.7          3.2           1.3          0.2  setosa\n",
       "3           4.6          3.1           1.5          0.2  setosa\n",
       "4           5.0          3.6           1.4          0.2  setosa"
      ]
     },
     "execution_count": 6,
     "metadata": {},
     "output_type": "execute_result"
    }
   ],
   "source": [
    "df.head()"
   ]
  },
  {
   "cell_type": "code",
   "execution_count": 11,
   "id": "14c1a0c9",
   "metadata": {},
   "outputs": [
    {
     "data": {
      "text/plain": [
       "3.057333333333334"
      ]
     },
     "execution_count": 11,
     "metadata": {},
     "output_type": "execute_result"
    }
   ],
   "source": [
    "mean = df['sepal_width'].mean()\n",
    "mean"
   ]
  },
  {
   "cell_type": "code",
   "execution_count": 12,
   "id": "7df7a793",
   "metadata": {},
   "outputs": [
    {
     "data": {
      "text/plain": [
       "0.435866284936698"
      ]
     },
     "execution_count": 12,
     "metadata": {},
     "output_type": "execute_result"
    }
   ],
   "source": [
    "std = df['sepal_width'].std()\n",
    "std"
   ]
  },
  {
   "cell_type": "code",
   "execution_count": 14,
   "id": "19b42c9c",
   "metadata": {},
   "outputs": [],
   "source": [
    "snd = stat.norm(mean, std)"
   ]
  },
  {
   "cell_type": "code",
   "execution_count": 18,
   "id": "acd91791",
   "metadata": {},
   "outputs": [
    {
     "data": {
      "image/png": "[encoded data removed]",
      "text/plain": [
       "<Figure size 432x288 with 1 Axes>"
      ]
     },
     "metadata": {
      "needs_background": "light"
     },
     "output_type": "display_data"
    }
   ],
   "source": [
    "plt.plot(df['sepal_width'],snd.pdf(df['sepal_width']))\n",
    "plt.title('Normal Ditribution')\n",
    "plt.show()"
   ]
  },
  {
   "cell_type": "code",
   "execution_count": 19,
   "id": "7e4a8341",
   "metadata": {},
   "outputs": [],
   "source": [
    "#Ans.4 Bionomial Distribution is a discrete probability distribution that provides two possible result with sucessive multiple\n",
    "# times.\n",
    "# Example -i. Tossing a coin mutiple times. Two outcomes will be head or. tail. Probability will be 1/2 for each try.\n",
    "#ii. Rolling a dice mutiple times for number one. Two outcome will be success or, failure. Probability will be 1/6 for single attempt."
   ]
  },
  {
   "cell_type": "code",
   "execution_count": 23,
   "id": "f57a1364",
   "metadata": {},
   "outputs": [],
   "source": [
    "#Ans.5\n",
    "import numpy as np\n",
    "x = np.random.binomial(10,0.4,1000)"
   ]
  },
  {
   "cell_type": "code",
   "execution_count": 26,
   "id": "a7f24b09",
   "metadata": {},
   "outputs": [
    {
     "data": {
      "image/png": "[encoded data removed]",
      "text/plain": [
       "<Figure size 432x288 with 1 Axes>"
      ]
     },
     "metadata": {
      "needs_background": "light"
     },
     "output_type": "display_data"
    }
   ],
   "source": [
    "plt.hist(x)\n",
    "plt.show()"
   ]
  },
  {
   "cell_type": "code",
   "execution_count": 28,
   "id": "4be8f0a6",
   "metadata": {},
   "outputs": [
    {
     "data": {
      "text/plain": [
       "array([ 4,  2,  6,  6,  6,  3,  6, 11,  6,  5])"
      ]
     },
     "execution_count": 28,
     "metadata": {},
     "output_type": "execute_result"
    }
   ],
   "source": [
    "#Ans.6 \n",
    "x = np.random.poisson(5, 10)\n",
    "x"
   ]
  },
  {
   "cell_type": "code",
   "execution_count": 29,
   "id": "4728da4c",
   "metadata": {},
   "outputs": [
    {
     "data": {
      "image/png": "[encoded data removed]",
      "text/plain": [
       "<Figure size 432x288 with 1 Axes>"
      ]
     },
     "metadata": {
      "needs_background": "light"
     },
     "output_type": "display_data"
    }
   ],
   "source": [
    "plt.hist(x)\n",
    "plt.show()"
   ]
  },
  {
   "cell_type": "code",
   "execution_count": 30,
   "id": "e3949f56",
   "metadata": {},
   "outputs": [],
   "source": [
    "#Ans.7\n",
    "# Bionomial dist possible outcomes will be 2 only, however Poisson dist will have multiple outcomes."
   ]
  },
  {
   "cell_type": "code",
   "execution_count": 42,
   "id": "1fae8740",
   "metadata": {},
   "outputs": [],
   "source": [
    "#Ans.8\n",
    "y = np.random.poisson(5, 1000)"
   ]
  },
  {
   "cell_type": "code",
   "execution_count": 43,
   "id": "bcc1316d",
   "metadata": {},
   "outputs": [
    {
     "data": {
      "text/plain": [
       "5.081"
      ]
     },
     "execution_count": 43,
     "metadata": {},
     "output_type": "execute_result"
    }
   ],
   "source": [
    "y.mean()"
   ]
  },
  {
   "cell_type": "code",
   "execution_count": 44,
   "id": "334d9582",
   "metadata": {},
   "outputs": [
    {
     "data": {
      "text/plain": [
       "5.294439000000001"
      ]
     },
     "execution_count": 44,
     "metadata": {},
     "output_type": "execute_result"
    }
   ],
   "source": [
    "y.var()"
   ]
  },
  {
   "cell_type": "code",
   "execution_count": 54,
   "id": "b3f71029",
   "metadata": {},
   "outputs": [],
   "source": [
    "#Ans.9 Poisson distribution mean is equal to variance. In bioonomial distribution, mean and variance are different"
   ]
  },
  {
   "cell_type": "code",
   "execution_count": 55,
   "id": "d57bef84",
   "metadata": {},
   "outputs": [],
   "source": [
    "#Ans.10 Least frequent data appear on the tail of the normal distribution daigram. Least frequent data appear outside of \n",
    "# 68%, 95%, 99.7%  of both side."
   ]
  },
  {
   "cell_type": "code",
   "execution_count": null,
   "id": "25725bb5",
   "metadata": {},
   "outputs": [],
   "source": []
  },
  {
   "cell_type": "code",
   "execution_count": null,
   "id": "0d8b930e",
   "metadata": {},
   "outputs": [],
   "source": []
  },
  {
   "cell_type": "code",
   "execution_count": null,
   "id": "47dca858",
   "metadata": {},
   "outputs": [],
   "source": []
  }
 ],
 "metadata": {
  "kernelspec": {
   "display_name": "Python 3",
   "language": "python",
   "name": "python3"
  },
  "language_info": {
   "codemirror_mode": {
    "name": "ipython",
    "version": 3
   },
   "file_extension": ".py",
   "mimetype": "text/x-python",
   "name": "python",
   "nbconvert_exporter": "python",
   "pygments_lexer": "ipython3",
   "version": "3.8.8"
  }
 },
 "nbformat": 4,
 "nbformat_minor": 5
}
